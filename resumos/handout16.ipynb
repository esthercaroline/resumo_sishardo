{
 "cells": [
  {
   "cell_type": "markdown",
   "metadata": {},
   "source": [
    "# Handout 16\n",
    "# **Sincronização com Mutex**\n",
    "\n",
    "## **1. Introdução à Sincronização**\n",
    "\n",
    "Em sistemas com múltiplas threads ou processos, é comum que várias unidades de execução acessem recursos compartilhados simultaneamente. Sem mecanismos adequados de controle, isso pode levar a condições de corrida (*race conditions*), onde o resultado do programa depende da ordem de execução das threads, resultando em comportamentos imprevisíveis.\n",
    "\n",
    "**Exemplo de Condição de Corrida:**\n",
    "\n",
    "```c\n",
    "#include <pthread.h>\n",
    "#include <stdio.h>\n",
    "\n",
    "int contador = 0;\n",
    "\n",
    "void *incrementa(void *arg) {\n",
    "    for (int i = 0; i < 1000000; i++) {\n",
    "        contador++;\n",
    "    }\n",
    "    return NULL;\n",
    "}\n",
    "\n",
    "int main() {\n",
    "    pthread_t t1, t2;\n",
    "    pthread_create(&t1, NULL, incrementa, NULL);\n",
    "    pthread_create(&t2, NULL, incrementa, NULL);\n",
    "    pthread_join(t1, NULL);\n",
    "    pthread_join(t2, NULL);\n",
    "    printf(\"Contador final: %d\\n\", contador);\n",
    "    return 0;\n",
    "}\n",
    "\n",
    "```\n",
    "\n",
    "**Possível Resultado:**\n",
    "\n",
    "- O valor esperado para contador seria 2.000.000, mas devido à falta de sincronização, o resultado pode ser menor, indicando uma condição de corrida."
   ]
  },
  {
   "cell_type": "markdown",
   "metadata": {},
   "source": [
    "## **2. Mutex: Exclusão Mútua**\n",
    "\n",
    "Um *mutex* (do inglês *mutual exclusion*) é um mecanismo de sincronização que permite que apenas uma thread acesse um recurso compartilhado por vez, prevenindo condições de corrida.\n",
    "\n",
    "### **2.1. Operações Básicas com Mutex**\n",
    "\n",
    "- **Inicialização:** Antes de usar um mutex, é necessário inicializá-lo.\n",
    "- **Lock (Travar):** Uma thread que deseja acessar um recurso protegido deve adquirir o mutex.\n",
    "- **Unlock (Destravar):** Após acessar o recurso, a thread deve liberar o mutex.\n",
    "- **Destruição:** Quando o mutex não for mais necessário, ele deve ser destruído para liberar recursos.\n",
    "\n",
    "### **2.2. Funções Principais**\n",
    "\n",
    "- **`pthread_mutex_init`**: Inicializa um mutex.\n",
    "- **`pthread_mutex_lock`**: Adquire o mutex (bloqueia se já estiver em uso).\n",
    "- **`pthread_mutex_unlock`**: Libera o mutex.\n",
    "- **`pthread_mutex_destroy`**: Destroi o mutex.\n",
    "\n",
    "---\n",
    "\n",
    "## **3. Exemplo Prático: Uso de Mutex**\n",
    "\n",
    "**Objetivo:** Corrigir o exemplo anterior para evitar a condição de corrida utilizando mutex.\n",
    "\n"
   ]
  },
  {
   "cell_type": "code",
   "execution_count": null,
   "metadata": {
    "vscode": {
     "languageId": "c"
    }
   },
   "outputs": [],
   "source": [
    "#include <pthread.h>\n",
    "#include <stdio.h>\n",
    "\n",
    "int contador = 0;\n",
    "pthread_mutex_t mutex_contador;\n",
    "\n",
    "void *incrementa(void *arg) {\n",
    "    for (int i = 0; i < 1000000; i++) {\n",
    "        pthread_mutex_lock(&mutex_contador);\n",
    "        contador++;\n",
    "        pthread_mutex_unlock(&mutex_contador);\n",
    "    }\n",
    "    return NULL;\n",
    "}\n",
    "\n",
    "int main() {\n",
    "    pthread_t t1, t2;\n",
    "    pthread_mutex_init(&mutex_contador, NULL);\n",
    "    pthread_create(&t1, NULL, incrementa, NULL);\n",
    "    pthread_create(&t2, NULL, incrementa, NULL);\n",
    "    pthread_join(t1, NULL);\n",
    "    pthread_join(t2, NULL);\n",
    "    printf(\"Contador final: %d\\n\", contador);\n",
    "    pthread_mutex_destroy(&mutex_contador);\n",
    "    return 0;\n",
    "}"
   ]
  },
  {
   "cell_type": "markdown",
   "metadata": {},
   "source": [
    "**Explicação:**\n",
    "\n",
    "- Inicialização: pthread_mutex_init inicializa o mutex antes de criar as threads.\n",
    "- Uso do Mutex: Dentro da função incrementa, pthread_mutex_lock é chamado antes de incrementar contador, garantindo que apenas uma thread por vez execute essa seção crítica. Após incrementar, pthread_mutex_unlock libera o mutex.\n",
    "- Destruição: Após o uso, pthread_mutex_destroy libera os recursos associados ao mutex.\n",
    "\n",
    "**Resultado Esperado:**\n",
    "\n",
    "- O valor de contador será consistentemente 2.000.000, indicando que a condição de corrida foi eliminada."
   ]
  },
  {
   "cell_type": "markdown",
   "metadata": {},
   "source": [
    "## **4. Considerações sobre o Uso de Mutex**\n",
    "\n",
    "- **Desempenho:** O uso excessivo de mutexes pode levar a contenção, onde múltiplas threads competem pelo mesmo recurso, reduzindo o desempenho. É importante proteger apenas as seções críticas do código.\n",
    "- **Deadlocks:** Se não utilizados corretamente, mutexes podem levar a deadlocks, onde duas ou mais threads ficam bloqueadas indefinidamente esperando por recursos.\n",
    "\n",
    "### **Dicas para evitar Deadlocks**:\n",
    "- **Ordem Consistente:** Sempre adquira múltiplos mutexes na mesma ordem.\n",
    "- **Minimize o Tempo de Bloqueio:** Evite manter um mutex bloqueado por longos períodos.\n",
    "- **Timeouts:** Considere usar mecanismos de tempo limite ao tentar adquirir um mutex.\n",
    "\n",
    "---\n",
    "\n",
    "## **5. Alternativas aos Mutexes**\n",
    "\n",
    "Além dos mutexes, existem outros mecanismos de sincronização que podem ser mais adequados dependendo do cenário:\n",
    "\n",
    "- **Semáforos:** Controlam o acesso a múltiplas instâncias de um recurso compartilhado.  \n",
    "  **Exemplo de uso:** Controle de um pool de conexões.\n",
    "\n",
    "- **Variáveis de Condição:** Permitem que threads esperem até que uma condição específica seja atendida.  \n",
    "  **Exemplo de uso:** Produtores e consumidores sincronizando a produção e o consumo de itens em um buffer.\n",
    "\n",
    "Esses mecanismos são frequentemente utilizados em conjunto para resolver diferentes tipos de problemas de concorrência.\n"
   ]
  }
 ],
 "metadata": {
  "language_info": {
   "name": "python"
  }
 },
 "nbformat": 4,
 "nbformat_minor": 2
}
