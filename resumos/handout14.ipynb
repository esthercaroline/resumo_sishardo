{
 "cells": [
  {
   "cell_type": "markdown",
   "metadata": {},
   "source": [
    "# Handout 14\n",
    "\n",
    "# **Sinais II: Recebimento e Concorrência**\n",
    "\n",
    "## **1. Revisão de Sinais: `wait` e `kill`**\n",
    "\n",
    "Os sinais são uma forma de notificação assíncrona que permite ao sistema operacional informar processos sobre eventos específicos, como exceções de hardware ou mudanças no sistema. \n",
    "\n",
    "---\n",
    "\n",
    "## **2. Recebendo um Sinal**\n",
    "\n",
    "Quando um sinal é enviado a um processo, o kernel força o processo destinatário a reagir de alguma forma. As opções são:\n",
    "\n",
    "- **Ignorar o sinal**: O processo não realiza nenhuma ação.\n",
    "- **Terminar o processo**: Pode gerar um *core dump*.\n",
    "- **Capturar o sinal**: Executa uma função específica chamada de *signal handler*.\n",
    "\n",
    "### **Captura de Sinais**\n",
    "\n",
    "Um sinal funciona como uma exceção de hardware e a execução segue os seguintes passos:\n",
    "1. O sinal é recebido pelo processo.\n",
    "2. O controle é transferido para o *handler* do sinal.\n",
    "3. O *handler* do sinal é executado.\n",
    "4. O controle retorna para a próxima instrução.\n",
    "\n",
    "---\n",
    "\n",
    "## **3. Função `sigaction` para Captura de Sinais**\n",
    "\n",
    "A função `sigaction` é usada para definir como o processo reage a sinais:\n",
    "\n",
    "```c\n",
    "#include <signal.h>\n",
    "\n",
    "int sigaction(int signum, const struct sigaction *act, struct sigaction *oldact);\n",
    "\n"
   ]
  },
  {
   "cell_type": "markdown",
   "metadata": {},
   "source": [
    "- signum: Número do sinal.\n",
    "- act: Nova ação a ser executada.\n",
    "- oldact: Salva a ação anterior.\n",
    "\n",
    "### Estrutura sigaction"
   ]
  },
  {
   "cell_type": "code",
   "execution_count": null,
   "metadata": {
    "vscode": {
     "languageId": "c"
    }
   },
   "outputs": [],
   "source": [
    "struct sigaction {\n",
    "    void     (*sa_handler)(int);\n",
    "    void     (*sa_sigaction)(int, siginfo_t *, void *);\n",
    "    sigset_t   sa_mask;\n",
    "    int        sa_flags;\n",
    "    void     (*sa_restorer)(void);\n",
    "};"
   ]
  },
  {
   "cell_type": "markdown",
   "metadata": {},
   "source": [
    "- sa_handler: Função para manipular o sinal.\n",
    "- sa_mask: Sinais a serem bloqueados durante a execução do handler.\n",
    "- sa_flags: Modifica o comportamento do sinal."
   ]
  },
  {
   "cell_type": "markdown",
   "metadata": {},
   "source": [
    "## **4. Exemplo Prático: Capturando Sinais com `sigaction`**"
   ]
  },
  {
   "cell_type": "code",
   "execution_count": null,
   "metadata": {
    "vscode": {
     "languageId": "c"
    }
   },
   "outputs": [],
   "source": [
    "#include <stdio.h>\n",
    "#include <signal.h>\n",
    "#include <unistd.h>\n",
    "\n",
    "void handle_signal(int sig) {\n",
    "    printf(\"Sinal %d recebido\\n\", sig);\n",
    "}\n",
    "\n",
    "int main() {\n",
    "    struct sigaction sa;\n",
    "    sa.sa_handler = handle_signal;\n",
    "    sa.sa_flags = 0; // Opções padrão\n",
    "    sigemptyset(&sa.sa_mask); // Nenhum sinal bloqueado\n",
    "\n",
    "    sigaction(SIGINT, &sa, NULL); // Captura SIGINT (Ctrl+C)\n",
    "\n",
    "    while (1) {\n",
    "        pause(); // Aguarda sinais\n",
    "    }\n",
    "    return 0;\n",
    "}\n"
   ]
  },
  {
   "cell_type": "code",
   "execution_count": null,
   "metadata": {
    "vscode": {
     "languageId": "c"
    }
   },
   "outputs": [],
   "source": [
    "// Usando como exemplo o código acima,\n",
    "// modifique o arquivo sinal1.c para que o programa só termine após apertar Ctrl+C três vezes. \n",
    "//Você pode usar exit para sair na terceira vez. \n",
    "//Não se esqueça de consultar man sigaction para verificar quais includes devem ser usados.\n",
    "\n",
    "#include <stdio.h>\n",
    "#include <unistd.h>\n",
    "#include <signal.h>\n",
    "#include <stdlib.h>\n",
    "#include <sys/types.h>\n",
    "\n",
    "int contador = 0;\n",
    "\n",
    "void sig_handler(int num) {\n",
    "    contador++;\n",
    "    printf(\"Chamou Ctrl+C\\n\");\n",
    "    if (contador == 3) {\n",
    "        exit(0);\n",
    "    }\n",
    "}\n",
    "\n",
    "int main() {\n",
    "\n",
    "    struct sigaction handler;\n",
    "\n",
    "    handler.sa_handler = sig_handler;\n",
    "    handler.sa_flags = 0;\n",
    "    sigemptyset(&handler.sa_mask);\n",
    "\n",
    "    sigaction(SIGINT, &handler, NULL);\n",
    "\n",
    "    printf(\"Meu pid: %d\\n\", getpid());\n",
    "\n",
    "    while(1) {\n",
    "        sleep(1);\n",
    "    }\n",
    "    return 0;\n",
    "}"
   ]
  },
  {
   "cell_type": "markdown",
   "metadata": {},
   "source": [
    "## **5. Concorrência e Sinais**\n",
    "\n",
    "### **Problemas de Concorrência**\n",
    "\n",
    "Quando dois *handlers* tentam acessar o mesmo recurso (como uma variável global ou a função `printf`), podem ocorrer problemas de concorrência.  \n",
    "**Exemplo de problema**:\n",
    "- Um *handler* atualiza uma variável enquanto outro tenta lê-la.\n",
    "- A saída pode ser imprevisível se ambos os *handlers* executarem simultaneamente.\n",
    "\n",
    "**Cenário típico**:\n",
    "- Dois *handlers* lidando com sinais diferentes podem ser acionados ao mesmo tempo.\n",
    "- É crucial garantir que um *handler* não interfira no estado ou no fluxo de outro.\n",
    "\n",
    "---\n",
    "\n",
    "Exemplo:"
   ]
  },
  {
   "cell_type": "code",
   "execution_count": null,
   "metadata": {
    "vscode": {
     "languageId": "c"
    }
   },
   "outputs": [],
   "source": [
    "volatile int contador = 0;\n",
    "\n",
    "void handler1(int sig) {\n",
    "    contador++;\n",
    "}\n",
    "\n",
    "void handler2(int sig) {\n",
    "    printf(\"Contador: %d\\n\", contador);\n",
    "}\n",
    "\n",
    "//Se handler1 e handler2 forem executados simultaneamente, podem ocorrer inconsistências."
   ]
  },
  {
   "cell_type": "markdown",
   "metadata": {},
   "source": [
    "## **6. Bloqueio de Sinais**\n",
    "\n",
    "### **Bloquear Sinais Temporariamente**\n",
    "\n",
    "Sinais podem ser bloqueados para evitar conflitos enquanto um *handler* é executado.  \n",
    "Isso é realizado utilizando a máscara de sinais (`sa_mask`) na estrutura `sigaction`.\n",
    "\n",
    "### **Como Funciona o Bloqueio de Sinais**:\n",
    "- Enquanto um sinal está bloqueado, ele permanece pendente.\n",
    "- O sinal bloqueado é entregue ao processo assim que for desbloqueado, garantindo que o *handler* atual finalize sua execução sem interrupções.\n",
    "\n",
    "**Importância**:\n",
    "- Previne condições de corrida.\n",
    "- Assegura que o fluxo do programa não seja interrompido de forma imprevisível.\n",
    "\n",
    "Exemplo:"
   ]
  },
  {
   "cell_type": "code",
   "execution_count": null,
   "metadata": {
    "vscode": {
     "languageId": "c"
    }
   },
   "outputs": [],
   "source": [
    "#include <stdio.h>\n",
    "#include <signal.h>\n",
    "#include <unistd.h>\n",
    "\n",
    "void handle_signal(int sig) {\n",
    "    printf(\"Sinal %d recebido\\n\", sig);\n",
    "}\n",
    "\n",
    "int main() {\n",
    "    struct sigaction sa;\n",
    "    sa.sa_handler = handle_signal;\n",
    "    sigemptyset(&sa.sa_mask); \n",
    "    sigaddset(&sa.sa_mask, SIGTERM); // Bloqueia SIGTERM durante o handler\n",
    "    sa.sa_flags = 0;\n",
    "\n",
    "    sigaction(SIGINT, &sa, NULL); // Captura SIGINT\n",
    "\n",
    "    while (1) {\n",
    "        pause(); // Aguarda sinais\n",
    "    }\n",
    "    return 0;\n",
    "}\n",
    "\n",
    "//Resultado: Enquanto o sinal SIGINT é tratado, o sinal SIGTERM fica bloqueado e só será entregue após o término do handler."
   ]
  }
 ],
 "metadata": {
  "language_info": {
   "name": "python"
  }
 },
 "nbformat": 4,
 "nbformat_minor": 2
}
