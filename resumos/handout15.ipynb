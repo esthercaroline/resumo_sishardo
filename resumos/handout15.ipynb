{
 "cells": [
  {
   "cell_type": "markdown",
   "metadata": {},
   "source": [
    "# Handout 15\n",
    "\n",
    "# **Concorrência e Threads**\n",
    "\n",
    "## **1. Introdução às Threads**\n",
    "\n",
    "Threads são unidades básicas de execução dentro de um processo. Diferentemente dos processos, que possuem espaços de memória independentes, múltiplas threads dentro do mesmo processo compartilham o mesmo espaço de memória, permitindo comunicação e compartilhamento de dados de forma eficiente.\n",
    "\n",
    "**Vantagens das Threads:**\n",
    "- **Desempenho:** Permitem a execução paralela de tarefas, aproveitando melhor os recursos de sistemas multicore.\n",
    "- **Compartilhamento de Recursos:** Facilitam a comunicação entre tarefas, já que compartilham o mesmo espaço de memória.\n",
    "- **Responsividade:** Melhoram a responsividade de aplicações, permitindo que tarefas de longa duração sejam executadas em segundo plano.\n",
    "\n",
    "---\n",
    "\n",
    "## **2. Criando e Gerenciando Threads com POSIX Threads (pthreads)**\n",
    "\n",
    "A biblioteca POSIX Threads (pthreads) fornece uma API padrão para criação e gerenciamento de threads em sistemas Unix-like.\n",
    "\n",
    "### **2.1. Criando uma Thread**\n",
    "\n",
    "Para criar uma thread, utiliza-se a função `pthread_create`:\n",
    "\n",
    "```c\n",
    "#include <pthread.h>\n",
    "\n",
    "int pthread_create(pthread_t *thread, const pthread_attr_t *attr, void *(*start_routine)(void *), void *arg);\n"
   ]
  }
 ],
 "metadata": {
  "language_info": {
   "name": "python"
  }
 },
 "nbformat": 4,
 "nbformat_minor": 2
}
