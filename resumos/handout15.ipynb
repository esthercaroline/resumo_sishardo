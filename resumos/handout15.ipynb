{
 "cells": [
  {
   "cell_type": "markdown",
   "metadata": {},
   "source": [
    "# Handout 15\n",
    "\n",
    "# **Concorrência e Threads**\n",
    "\n",
    "## **1. Introdução às Threads**\n",
    "\n",
    "Threads são unidades básicas de execução dentro de um processo. Diferentemente dos processos, que possuem espaços de memória independentes, múltiplas threads dentro do mesmo processo compartilham o mesmo espaço de memória, permitindo comunicação e compartilhamento de dados de forma eficiente.\n",
    "\n",
    "**Vantagens das Threads:**\n",
    "- **Desempenho:** Permitem a execução paralela de tarefas, aproveitando melhor os recursos de sistemas multicore.\n",
    "- **Compartilhamento de Recursos:** Facilitam a comunicação entre tarefas, já que compartilham o mesmo espaço de memória.\n",
    "- **Responsividade:** Melhoram a responsividade de aplicações, permitindo que tarefas de longa duração sejam executadas em segundo plano.\n",
    "\n",
    "---\n",
    "\n",
    "## **2. Criando e Gerenciando Threads com POSIX Threads (pthreads)**\n",
    "\n",
    "A biblioteca POSIX Threads (pthreads) fornece uma API padrão para criação e gerenciamento de threads em sistemas Unix-like.\n",
    "\n",
    "### **2.1. Criando uma Thread**\n",
    "\n",
    "Para criar uma thread, utiliza-se a função `pthread_create`:\n",
    "\n",
    "```c\n",
    "#include <pthread.h>\n",
    "\n",
    "int pthread_create(pthread_t *thread, const pthread_attr_t *attr, void *(*start_routine)(void *), void *arg);\n"
   ]
  },
  {
   "cell_type": "markdown",
   "metadata": {},
   "source": [
    "- **thread:** Ponteiro para a variável que armazenará o identificador da thread criada.\n",
    "\n",
    "- **attr:** Atributos da thread (pode ser NULL para atributos padrão).\n",
    "\n",
    "- **start_routine:** Função que a thread executará.\n",
    "\n",
    "- **arg:** Argumento passado para a função start_routine.\n",
    "\n",
    "Exemplo:"
   ]
  },
  {
   "cell_type": "code",
   "execution_count": null,
   "metadata": {
    "vscode": {
     "languageId": "c"
    }
   },
   "outputs": [],
   "source": [
    "#include <pthread.h>\n",
    "#include <stdio.h>\n",
    "\n",
    "void *minha_thread(void *arg) {\n",
    "    printf(\"Olá da thread!\\n\");\n",
    "    return NULL;\n",
    "}\n",
    "\n",
    "int main() {\n",
    "    pthread_t tid;\n",
    "    pthread_create(&tid, NULL, minha_thread, NULL);\n",
    "    pthread_join(tid, NULL);\n",
    "    return 0;\n",
    "}\n"
   ]
  },
  {
   "cell_type": "markdown",
   "metadata": {},
   "source": [
    "**Explicação:**\n",
    "\n",
    "- Define-se a função minha_thread que será executada pela thread.\n",
    "- No main, cria-se a thread com pthread_create e espera-se sua conclusão com pthread_join"
   ]
  },
  {
   "cell_type": "markdown",
   "metadata": {},
   "source": [
    "### **2.2. Esperando a Conclusão de uma Thread**\n",
    "\n",
    "A função `pthread_join` é utilizada para aguardar a conclusão de uma thread específica:\n",
    "\n",
    "```c\n",
    "int pthread_join(pthread_t thread, void **retval);\n",
    "\n",
    "```\n",
    "\n",
    "- **thread:** Identificador da thread a ser aguardada\n",
    "- **retval:** Ponteiro para o valor de retorno da thread (pode ser NULL se o valor não for necessário).\n",
    "\n",
    "**Nota:** É importante utilizar pthread_join para evitar que a thread principal termine antes das threads criadas, o que poderia encerrar o processo antes da conclusão das threads.\n",
    "\n",
    "## **3. Passando Argumentos para Threads**\n",
    "\n",
    "Para passar argumentos para uma thread, utiliza-se o quarto parâmetro de pthread_create. Como esse parâmetro é do tipo void*, é comum passar ponteiros para estruturas que contêm os dados necessários.\n",
    "\n",
    "Exemplo:\n"
   ]
  },
  {
   "cell_type": "code",
   "execution_count": null,
   "metadata": {
    "vscode": {
     "languageId": "c"
    }
   },
   "outputs": [],
   "source": [
    "#include <pthread.h>\n",
    "#include <stdio.h>\n",
    "\n",
    "struct thread_data {\n",
    "    int id;\n",
    "    char mensagem[100];\n",
    "};\n",
    "\n",
    "void *minha_thread(void *arg) {\n",
    "    struct thread_data *data = (struct thread_data *)arg;\n",
    "    printf(\"Thread %d diz: %s\\n\", data->id, data->mensagem);\n",
    "    return NULL;\n",
    "}\n",
    "\n",
    "int main() {\n",
    "    pthread_t tid;\n",
    "    struct thread_data data = {1, \"Olá da thread!\"};\n",
    "    pthread_create(&tid, NULL, minha_thread, &data);\n",
    "    pthread_join(tid, NULL);\n",
    "    return 0;\n",
    "}\n"
   ]
  },
  {
   "cell_type": "markdown",
   "metadata": {},
   "source": [
    "**Explicação:**\n",
    "\n",
    "- Define-se uma estrutura thread_data para armazenar os dados a serem passados para a thread.\n",
    "- No main, inicializa-se a estrutura e passa-se seu endereço como argumento para pthread_create.\n",
    "- Na função minha_thread, converte-se o argumento recebido de volta para o tipo struct thread_data* e acessam-se os dados."
   ]
  },
  {
   "cell_type": "markdown",
   "metadata": {},
   "source": [
    "## **4. Retornando Valores de Threads**\n",
    "\n",
    "Uma thread pode retornar um valor utilizando a função pthread_exit. O valor retornado pode ser recuperado pela thread que chamou pthread_join.\n",
    "\n",
    "Exemplo:"
   ]
  },
  {
   "cell_type": "code",
   "execution_count": null,
   "metadata": {
    "vscode": {
     "languageId": "c"
    }
   },
   "outputs": [],
   "source": [
    "#include <pthread.h>\n",
    "#include <stdio.h>\n",
    "\n",
    "void *minha_thread(void *arg) {\n",
    "    int *ret = malloc(sizeof(int));\n",
    "    *ret = 42;\n",
    "    pthread_exit((void *)ret);\n",
    "}\n",
    "\n",
    "int main() {\n",
    "    pthread_t tid;\n",
    "    int *resultado;\n",
    "    pthread_create(&tid, NULL, minha_thread, NULL);\n",
    "    pthread_join(tid, (void **)&resultado);\n",
    "    printf(\"Resultado da thread: %d\\n\", *resultado);\n",
    "    free(resultado);\n",
    "    return 0;\n",
    "}\n"
   ]
  },
  {
   "cell_type": "markdown",
   "metadata": {},
   "source": [
    "**Explicação:**\n",
    "\n",
    "- Na função minha_thread, aloca-se memória para um inteiro, atribui-se um valor e retorna-se o ponteiro utilizando pthread_exit.\n",
    "- No main, após pthread_join, o ponteiro retornado é acessado para obter o resultado.\n",
    "- É importante liberar a memória alocada após o uso para evitar vazamentos de memória."
   ]
  },
  {
   "cell_type": "markdown",
   "metadata": {},
   "source": [
    "## **5. Considerações sobre Concorrência**\n",
    "\n",
    "Ao utilizar múltiplas threads que acessam recursos compartilhados, é essencial garantir que o acesso seja sincronizado para evitar condições de corrida (race conditions). Técnicas como mutexes e semáforos são utilizadas para controlar o acesso concorrente a recursos compartilhados.\n",
    "\n",
    "Exemplo de Problema de Concorrência:"
   ]
  },
  {
   "cell_type": "code",
   "execution_count": null,
   "metadata": {
    "vscode": {
     "languageId": "c"
    }
   },
   "outputs": [],
   "source": [
    "#include <pthread.h>\n",
    "#include <stdio.h>\n",
    "\n",
    "int contador = 0;\n",
    "\n",
    "void *incrementa(void *arg) {\n",
    "    for (int i = 0; i < 1000000; i++) {\n",
    "        contador++;\n",
    "    }\n",
    "    return NULL;\n",
    "}\n",
    "\n",
    "int main() {\n",
    "    pthread_t t1, t2;\n",
    "    pthread_create(&t1, NULL, incrementa, NULL);\n",
    "    pthread_create(&t2, NULL, incrementa, NULL);\n",
    "    pthread_join(t1, NULL);\n",
    "    pthread_join(t2, NULL);\n",
    "    printf(\"Contador final: %d\\n\", contador);\n",
    "    return 0;\n",
    "}\n"
   ]
  },
  {
   "cell_type": "markdown",
   "metadata": {},
   "source": [
    "**Possível Resultado:**\n",
    "\n",
    "- O valor esperado para contador seria 2.000.000, mas devido à falta de sincronização, o resultado pode ser menor, indicando uma condição de corrida.\n",
    "\n",
    "**Solução:**\n",
    "\n",
    "- Utilizar mecanismos de sincronização, como mutexes, para proteger o acesso à variável contador."
   ]
  }
 ],
 "metadata": {
  "language_info": {
   "name": "python"
  }
 },
 "nbformat": 4,
 "nbformat_minor": 2
}
