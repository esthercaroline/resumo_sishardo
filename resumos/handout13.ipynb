{
 "cells": [
  {
   "cell_type": "markdown",
   "metadata": {},
   "source": [
    "\n",
    "# Handout 13\n",
    "\n",
    "## **O que são Sinais?**\n",
    "\n",
    "Em sistemas operacionais compatíveis com POSIX, um **sinal** é uma notificação assíncrona enviada a um processo para informá-lo sobre a ocorrência de um evento específico. Esses eventos podem incluir exceções de hardware, condições de sistema ou ações do usuário. Os sinais permitem que processos reajam a eventos inesperados ou que se comuniquem entre si de maneira eficiente.\n",
    "\n",
    "## **Funcionamento dos Sinais**\n",
    "\n",
    "Quando um sinal é enviado a um processo, o sistema operacional interrompe temporariamente a execução normal desse processo para lidar com o sinal. O processo pode definir uma função específica para tratar o sinal (chamada de *signal handler*) ou adotar o comportamento padrão associado a esse sinal.  \n",
    "**Exemplo**: O sinal `SIGINT`, geralmente gerado quando o usuário pressiona `Ctrl+C` no terminal, tem como ação padrão a terminação do processo.\n",
    "\n",
    "## **Principais Sinais POSIX**\n",
    "\n",
    "Alguns dos sinais mais comuns definidos pelo padrão POSIX incluem:\n",
    "\n",
    "- **SIGINT (2)**: Interrupção do terminal (geralmente gerado por `Ctrl+C`).\n",
    "- **SIGKILL (9)**: Finalização imediata do processo (não pode ser capturado ou ignorado).\n",
    "- **SIGTERM (15)**: Solicitação de terminação do processo.\n",
    "- **SIGSEGV (11)**: Violação de segmentação (acesso inválido à memória).\n",
    "- **SIGCHLD (17)**: Indica que um processo filho terminou ou foi interrompido.\n",
    "\n",
    "Cada sinal possui um número associado e uma ação padrão que o sistema operacional executa caso o processo não defina um tratador específico.\n"
   ]
  },
  {
   "cell_type": "markdown",
   "metadata": {},
   "source": [
    "## **Enviando Sinais**\n",
    "\n",
    "Sinais podem ser enviados de diversas maneiras:\n",
    "\n",
    "1. **A partir do terminal**: Certas combinações de teclas enviam sinais para o processo em execução no terminal.  \n",
    "   **Exemplo**: `Ctrl+C` envia `SIGINT`, enquanto `Ctrl+Z` envia `SIGTSTP` (suspende o processo).\n",
    "\n",
    "2. **Usando a chamada de sistema `kill`**: Um processo pode enviar sinais a outro utilizando a função `kill`:\n",
    "\n",
    "    ```c\n",
    "    #include <signal.h>\n",
    "    #include <unistd.h>\n",
    "\n",
    "    int kill(pid_t pid, int sig);\n",
    "    ```\n",
    "\n",
    "    Onde `pid` é o identificador do processo de destino e `sig` é o sinal a ser enviado.  \n",
    "    **Exemplo**: Para enviar `SIGTERM` a um processo com PID `1234`:\n",
    "\n",
    "    ```c\n",
    "    kill(1234, SIGTERM);\n",
    "    ```\n",
    "\n",
    "3. **Através do comando `kill` no shell**:  \n",
    "   O comando `kill` permite que usuários enviem sinais a processos a partir da linha de comando:\n",
    "\n",
    "    ```bash\n",
    "    kill -SIGTERM 1234\n",
    "    ```\n",
    "\n",
    "    Ou, utilizando o número do sinal:\n",
    "\n",
    "    ```bash\n",
    "    kill -15 1234\n",
    "    ```\n",
    "\n",
    "---\n",
    "\n",
    "## **Capturando Sinais**\n",
    "\n",
    "Processos podem definir funções específicas para tratar sinais, permitindo uma resposta personalizada a eventos.  \n",
    "Isso é feito utilizando a função `signal` ou `sigaction`. A função `signal` possui a seguinte assinatura:\n",
    "\n",
    "```c\n",
    "#include <signal.h>\n",
    "\n",
    "void (*signal(int sig, void (*func)(int)))(int);"
   ]
  },
  {
   "cell_type": "markdown",
   "metadata": {},
   "source": [
    "**Exemplo:** Para capturar o sinal SIGINT e definir uma função tratadora:"
   ]
  },
  {
   "cell_type": "code",
   "execution_count": null,
   "metadata": {
    "vscode": {
     "languageId": "c"
    }
   },
   "outputs": [],
   "source": [
    "#include <stdio.h>\n",
    "#include <signal.h>\n",
    "\n",
    "void handle_sigint(int sig) {\n",
    "    printf(\"Recebi o sinal SIGINT (%d)\\n\", sig);\n",
    "}\n",
    "\n",
    "int main() {\n",
    "    signal(SIGINT, handle_sigint);\n",
    "    while (1) {\n",
    "        // Loop infinito\n",
    "    }\n",
    "    return 0;\n",
    "}\n"
   ]
  },
  {
   "cell_type": "markdown",
   "metadata": {},
   "source": [
    "## **Exemplo Prático: Envio e Captura de Sinais**\n",
    "\n",
    "Vamos criar dois programas: um que envia um sinal e outro que o captura.\n",
    "\n",
    "**Programa que captura o sinal (captura_sinal.c)**"
   ]
  },
  {
   "cell_type": "code",
   "execution_count": null,
   "metadata": {
    "vscode": {
     "languageId": "c"
    }
   },
   "outputs": [],
   "source": [
    "#include <stdio.h>\n",
    "#include <signal.h>\n",
    "#include <unistd.h>\n",
    "\n",
    "void handle_sigusr1(int sig) {\n",
    "    printf(\"Recebi o sinal SIGUSR1 (%d)\\n\", sig);\n",
    "}\n",
    "\n",
    "int main() {\n",
    "    signal(SIGUSR1, handle_sigusr1);\n",
    "    printf(\"PID do processo: %d\\n\", getpid());\n",
    "    while (1) {\n",
    "        pause(); // Aguarda por sinais\n",
    "    }\n",
    "    return 0;\n",
    "}\n"
   ]
  },
  {
   "cell_type": "markdown",
   "metadata": {},
   "source": [
    "**Programa que envia o sinal (envia_sinal.c)**"
   ]
  },
  {
   "cell_type": "code",
   "execution_count": null,
   "metadata": {
    "vscode": {
     "languageId": "c"
    }
   },
   "outputs": [],
   "source": [
    "#include <stdio.h>\n",
    "#include <signal.h>\n",
    "#include <stdlib.h>\n",
    "\n",
    "int main(int argc, char *argv[]) {\n",
    "    if (argc != 2) {\n",
    "        fprintf(stderr, \"Uso: %s <PID>\\n\", argv[0]);\n",
    "        exit(EXIT_FAILURE);\n",
    "    }\n",
    "    pid_t pid = atoi(argv[1]);\n",
    "    if (kill(pid, SIGUSR1) == -1) {\n",
    "        perror(\"Erro ao enviar sinal\");\n",
    "        exit(EXIT_FAILURE);\n",
    "    }\n",
    "    printf(\"Sinal SIGUSR1 enviado para o processo %d\\n\", pid);\n",
    "    return 0;\n",
    "}\n"
   ]
  },
  {
   "cell_type": "markdown",
   "metadata": {},
   "source": [
    "![execução](image.png)\n"
   ]
  }
 ],
 "metadata": {
  "language_info": {
   "name": "python"
  }
 },
 "nbformat": 4,
 "nbformat_minor": 2
}
